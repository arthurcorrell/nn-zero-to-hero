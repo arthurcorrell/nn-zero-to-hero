{
 "cells": [
  {
   "cell_type": "code",
   "execution_count": 1023,
   "metadata": {},
   "outputs": [],
   "source": [
    "import torch\n",
    "import torch.nn.functional as F\n",
    "import matplotlib.pyplot as plt # for making figures\n",
    "%matplotlib inline"
   ]
  },
  {
   "cell_type": "markdown",
   "metadata": {},
   "source": [
    "#### Dataset and input formatting"
   ]
  },
  {
   "cell_type": "code",
   "execution_count": 1024,
   "metadata": {},
   "outputs": [
    {
     "data": {
      "text/plain": [
       "['emma', 'olivia', 'ava', 'isabella', 'sophia', 'charlotte', 'mia', 'amelia']"
      ]
     },
     "execution_count": 1024,
     "metadata": {},
     "output_type": "execute_result"
    }
   ],
   "source": [
    "# read in all the words\n",
    "words = open('makemore_dataset/names.txt', 'r').read().splitlines()\n",
    "words[:8]"
   ]
  },
  {
   "cell_type": "code",
   "execution_count": 1025,
   "metadata": {},
   "outputs": [
    {
     "data": {
      "text/plain": [
       "32033"
      ]
     },
     "execution_count": 1025,
     "metadata": {},
     "output_type": "execute_result"
    }
   ],
   "source": [
    "len(words)"
   ]
  },
  {
   "cell_type": "code",
   "execution_count": 1026,
   "metadata": {},
   "outputs": [],
   "source": [
    "# map each character to an index for one-hot encoding\n",
    "chars = sorted(list(set(''.join(words))))\n",
    "stoi = {s:i+1 for i, s in enumerate(chars)}\n",
    "stoi['.'] = 0\n",
    "\n",
    "itos = {i:s for s, i in stoi.items()}"
   ]
  },
  {
   "cell_type": "code",
   "execution_count": 1027,
   "metadata": {},
   "outputs": [
    {
     "data": {
      "text/plain": [
       "{1: 'a',\n",
       " 2: 'b',\n",
       " 3: 'c',\n",
       " 4: 'd',\n",
       " 5: 'e',\n",
       " 6: 'f',\n",
       " 7: 'g',\n",
       " 8: 'h',\n",
       " 9: 'i',\n",
       " 10: 'j',\n",
       " 11: 'k',\n",
       " 12: 'l',\n",
       " 13: 'm',\n",
       " 14: 'n',\n",
       " 15: 'o',\n",
       " 16: 'p',\n",
       " 17: 'q',\n",
       " 18: 'r',\n",
       " 19: 's',\n",
       " 20: 't',\n",
       " 21: 'u',\n",
       " 22: 'v',\n",
       " 23: 'w',\n",
       " 24: 'x',\n",
       " 25: 'y',\n",
       " 26: 'z',\n",
       " 0: '.'}"
      ]
     },
     "execution_count": 1027,
     "metadata": {},
     "output_type": "execute_result"
    }
   ],
   "source": [
    "itos"
   ]
  },
  {
   "cell_type": "code",
   "execution_count": 1028,
   "metadata": {},
   "outputs": [],
   "source": [
    "x, y = [], []\n",
    "\n",
    "\n",
    "for w in words[:3]:\n",
    "    for c1, c2 in zip(w, w[1:]):\n",
    "        i1, i2 = stoi[c1], stoi[c2]\n",
    "        x.append(i1)\n",
    "        y.append(i2)\n",
    "\n",
    "xs = torch.tensor(x)\n",
    "num = xs.nelement()\n",
    "ys = torch.tensor(y)"
   ]
  },
  {
   "cell_type": "code",
   "execution_count": 1029,
   "metadata": {},
   "outputs": [
    {
     "data": {
      "text/plain": [
       "(tensor([ 5, 13, 13, 15, 12,  9, 22,  9,  1, 22]),\n",
       " tensor([13, 13,  1, 12,  9, 22,  9,  1, 22,  1]))"
      ]
     },
     "execution_count": 1029,
     "metadata": {},
     "output_type": "execute_result"
    }
   ],
   "source": [
    "xs, ys"
   ]
  },
  {
   "cell_type": "code",
   "execution_count": 1030,
   "metadata": {},
   "outputs": [],
   "source": [
    "# initialise the neural network weights\n",
    "g = torch.Generator().manual_seed(11)\n",
    "W = torch.rand((27, 27), requires_grad=True, generator=g)"
   ]
  },
  {
   "cell_type": "markdown",
   "metadata": {},
   "source": [
    "#### Training loop"
   ]
  },
  {
   "cell_type": "code",
   "execution_count": 1800,
   "metadata": {},
   "outputs": [],
   "source": [
    "# inputs are reinstatiated for each loop through the training data\n",
    "inputs = F.one_hot(xs, num_classes=27).float()"
   ]
  },
  {
   "cell_type": "code",
   "execution_count": 1801,
   "metadata": {},
   "outputs": [
    {
     "data": {
      "text/plain": [
       "tensor([[0.0146, 0.0162, 0.0159, 0.0123, 0.0122, 0.0172, 0.0234, 0.0269, 0.0187,\n",
       "         0.0129, 0.0153, 0.0192, 0.0195, 0.5326, 0.0148, 0.0194, 0.0256, 0.0129,\n",
       "         0.0155, 0.0134, 0.0146, 0.0260, 0.0214, 0.0171, 0.0173, 0.0250, 0.0202],\n",
       "        [0.0118, 0.2963, 0.0145, 0.0119, 0.0194, 0.0155, 0.0126, 0.0202, 0.0138,\n",
       "         0.0103, 0.0141, 0.0181, 0.0129, 0.3299, 0.0130, 0.0131, 0.0190, 0.0147,\n",
       "         0.0193, 0.0190, 0.0180, 0.0100, 0.0108, 0.0107, 0.0182, 0.0149, 0.0180],\n",
       "        [0.0118, 0.2963, 0.0145, 0.0119, 0.0194, 0.0155, 0.0126, 0.0202, 0.0138,\n",
       "         0.0103, 0.0141, 0.0181, 0.0129, 0.3299, 0.0130, 0.0131, 0.0190, 0.0147,\n",
       "         0.0193, 0.0190, 0.0180, 0.0100, 0.0108, 0.0107, 0.0182, 0.0149, 0.0180],\n",
       "        [0.0156, 0.0173, 0.0208, 0.0184, 0.0138, 0.0177, 0.0139, 0.0120, 0.0199,\n",
       "         0.0257, 0.0252, 0.0178, 0.5414, 0.0123, 0.0177, 0.0112, 0.0120, 0.0228,\n",
       "         0.0235, 0.0120, 0.0240, 0.0228, 0.0144, 0.0222, 0.0209, 0.0125, 0.0122],\n",
       "        [0.0159, 0.0222, 0.0195, 0.0190, 0.0279, 0.0202, 0.0268, 0.0250, 0.0190,\n",
       "         0.4618, 0.0169, 0.0243, 0.0195, 0.0152, 0.0184, 0.0302, 0.0143, 0.0215,\n",
       "         0.0228, 0.0173, 0.0155, 0.0274, 0.0133, 0.0157, 0.0203, 0.0259, 0.0240],\n",
       "        [0.0158, 0.3058, 0.0131, 0.0152, 0.0160, 0.0143, 0.0155, 0.0112, 0.0170,\n",
       "         0.0177, 0.0217, 0.0226, 0.0107, 0.0176, 0.0130, 0.0186, 0.0155, 0.0127,\n",
       "         0.0223, 0.0163, 0.0216, 0.0156, 0.2808, 0.0202, 0.0136, 0.0150, 0.0208],\n",
       "        [0.0154, 0.3260, 0.0096, 0.0145, 0.0191, 0.0130, 0.0113, 0.0192, 0.0109,\n",
       "         0.3182, 0.0171, 0.0119, 0.0097, 0.0121, 0.0149, 0.0173, 0.0119, 0.0116,\n",
       "         0.0187, 0.0170, 0.0142, 0.0171, 0.0128, 0.0155, 0.0106, 0.0140, 0.0161],\n",
       "        [0.0158, 0.3058, 0.0131, 0.0152, 0.0160, 0.0143, 0.0155, 0.0112, 0.0170,\n",
       "         0.0177, 0.0217, 0.0226, 0.0107, 0.0176, 0.0130, 0.0186, 0.0155, 0.0127,\n",
       "         0.0223, 0.0163, 0.0216, 0.0156, 0.2808, 0.0202, 0.0136, 0.0150, 0.0208],\n",
       "        [0.0190, 0.0162, 0.0224, 0.0276, 0.0148, 0.0159, 0.0173, 0.0277, 0.0137,\n",
       "         0.0302, 0.0152, 0.0187, 0.0189, 0.0167, 0.0269, 0.0196, 0.0152, 0.0156,\n",
       "         0.0211, 0.0220, 0.0156, 0.0215, 0.4875, 0.0198, 0.0241, 0.0192, 0.0176],\n",
       "        [0.0154, 0.3260, 0.0096, 0.0145, 0.0191, 0.0130, 0.0113, 0.0192, 0.0109,\n",
       "         0.3182, 0.0171, 0.0119, 0.0097, 0.0121, 0.0149, 0.0173, 0.0119, 0.0116,\n",
       "         0.0187, 0.0170, 0.0142, 0.0171, 0.0128, 0.0155, 0.0106, 0.0140, 0.0161]],\n",
       "       grad_fn=<DivBackward0>)"
      ]
     },
     "execution_count": 1801,
     "metadata": {},
     "output_type": "execute_result"
    }
   ],
   "source": [
    "logits = (inputs @ W)\n",
    "counts = logits.exp()\n",
    "probs = counts / counts.sum(1, keepdim=True)\n",
    "probs"
   ]
  },
  {
   "cell_type": "code",
   "execution_count": 1802,
   "metadata": {},
   "outputs": [
    {
     "data": {
      "text/plain": [
       "tensor([ 5, 13, 13, 15, 12,  9, 22,  9,  1, 22])"
      ]
     },
     "execution_count": 1802,
     "metadata": {},
     "output_type": "execute_result"
    }
   ],
   "source": [
    "# prob for each index = 1\n",
    "xs"
   ]
  },
  {
   "cell_type": "code",
   "execution_count": 1803,
   "metadata": {},
   "outputs": [
    {
     "data": {
      "text/plain": [
       "tensor([13, 13,  1, 12,  9, 22,  9,  1, 22,  1])"
      ]
     },
     "execution_count": 1803,
     "metadata": {},
     "output_type": "execute_result"
    }
   ],
   "source": [
    "# prob for eeach index = 1\n",
    "ys"
   ]
  },
  {
   "cell_type": "code",
   "execution_count": 1804,
   "metadata": {},
   "outputs": [
    {
     "data": {
      "text/plain": [
       "tensor([0.5326, 0.3299, 0.2963, 0.5414, 0.4618, 0.2808, 0.3182, 0.3058, 0.4875,\n",
       "        0.3260], grad_fn=<IndexBackward0>)"
      ]
     },
     "execution_count": 1804,
     "metadata": {},
     "output_type": "execute_result"
    }
   ],
   "source": [
    "# probabilities for indexes given by ys, should approach 1\n",
    "probs[torch.arange(num), ys]"
   ]
  },
  {
   "cell_type": "code",
   "execution_count": 1805,
   "metadata": {},
   "outputs": [
    {
     "data": {
      "text/plain": [
       "tensor(0.9781, grad_fn=<NegBackward0>)"
      ]
     },
     "execution_count": 1805,
     "metadata": {},
     "output_type": "execute_result"
    }
   ],
   "source": [
    "# characterize error with nll\n",
    "loss = -probs[torch.arange(num), ys].log().mean()\n",
    "loss"
   ]
  },
  {
   "cell_type": "code",
   "execution_count": 1806,
   "metadata": {},
   "outputs": [],
   "source": [
    "# backprop\n",
    "W.grad = None\n",
    "loss.backward()"
   ]
  },
  {
   "cell_type": "code",
   "execution_count": 1807,
   "metadata": {},
   "outputs": [
    {
     "data": {
      "text/plain": [
       "tensor(0.9781, grad_fn=<NegBackward0>)"
      ]
     },
     "execution_count": 1807,
     "metadata": {},
     "output_type": "execute_result"
    }
   ],
   "source": [
    "loss"
   ]
  },
  {
   "cell_type": "code",
   "execution_count": 1808,
   "metadata": {},
   "outputs": [],
   "source": [
    "W.data += -0.5 * W.grad"
   ]
  },
  {
   "cell_type": "markdown",
   "metadata": {},
   "source": [
    "#### Sampling from the network\n",
    "\n",
    "Each column of the weights matrix denotes outgoing weights from an input neuron, and can be interpreted as a probability distribution"
   ]
  },
  {
   "cell_type": "code",
   "execution_count": 1817,
   "metadata": {},
   "outputs": [
    {
     "data": {
      "text/plain": [
       "['.emkiapmzhsavtjxggiavicogbwvivavnflitcwsuxbpgxbnuxblipbslyy',\n",
       " '.bviyegyxzzdytpdf',\n",
       " '.lliazosctztrlivdhsx',\n",
       " '.nxemjbrjhgtnzva',\n",
       " '.vwjemdviammmmruiaxwjmahyemmdykmkoliavavaiaydoluemmijjdfrevivassxwevohndunusulivwiavoruywoluolemlivgyuarrjiavjwfztbzttkiavavusprgbskhem']"
      ]
     },
     "execution_count": 1817,
     "metadata": {},
     "output_type": "execute_result"
    }
   ],
   "source": [
    "g = torch.Generator().manual_seed(11)\n",
    "names = []\n",
    "# sample ten words, starting at the 0-character each time\n",
    "for i in range(5):\n",
    "    # sample until stopping character is outputted\n",
    "    ix = 0\n",
    "    s = ''\n",
    "    while True:\n",
    "        char = itos[ix]\n",
    "        s += char\n",
    "\n",
    "        input = F.one_hot(torch.tensor(ix), num_classes=27).float()\n",
    "        logits = input @ W\n",
    "        counts = logits.exp()\n",
    "        probs = counts / counts.sum(0, keepdim=True)\n",
    "\n",
    "        ix = torch.multinomial(probs, generator=g, replacement=True, num_samples=1).item()\n",
    "\n",
    "        if ix == 0:\n",
    "            break\n",
    "    \n",
    "    names.append(s)\n",
    "\n",
    "names"
   ]
  },
  {
   "cell_type": "code",
   "execution_count": 1818,
   "metadata": {},
   "outputs": [
    {
     "data": {
      "text/plain": [
       "tensor([0.0116, 0.2991, 0.0143, 0.0117, 0.0191, 0.0153, 0.0124, 0.0199, 0.0136,\n",
       "        0.0102, 0.0140, 0.0178, 0.0128, 0.3319, 0.0129, 0.0129, 0.0188, 0.0146,\n",
       "        0.0191, 0.0188, 0.0177, 0.0099, 0.0107, 0.0106, 0.0180, 0.0147, 0.0178],\n",
       "       grad_fn=<DivBackward0>)"
      ]
     },
     "execution_count": 1818,
     "metadata": {},
     "output_type": "execute_result"
    }
   ],
   "source": [
    "probs"
   ]
  },
  {
   "cell_type": "code",
   "execution_count": 1823,
   "metadata": {},
   "outputs": [
    {
     "data": {
      "text/plain": [
       "<matplotlib.image.AxesImage at 0x1c0db376600>"
      ]
     },
     "execution_count": 1823,
     "metadata": {},
     "output_type": "execute_result"
    },
    {
     "data": {
      "image/png": "[encoded data removed]",
      "text/plain": [
       "<Figure size 640x480 with 1 Axes>"
      ]
     },
     "metadata": {},
     "output_type": "display_data"
    }
   ],
   "source": [
    "weights = W\n",
    "weights = weights.detach().numpy()\n",
    "plt.imshow(weights.T)"
   ]
  },
  {
   "cell_type": "code",
   "execution_count": null,
   "metadata": {},
   "outputs": [],
   "source": []
  }
 ],
 "metadata": {
  "kernelspec": {
   "display_name": "Python 3",
   "language": "python",
   "name": "python3"
  },
  "language_info": {
   "codemirror_mode": {
    "name": "ipython",
    "version": 3
   },
   "file_extension": ".py",
   "mimetype": "text/x-python",
   "name": "python",
   "nbconvert_exporter": "python",
   "pygments_lexer": "ipython3",
   "version": "3.12.8"
  }
 },
 "nbformat": 4,
 "nbformat_minor": 2
}
