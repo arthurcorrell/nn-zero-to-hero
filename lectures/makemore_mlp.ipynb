{
 "cells": [
  {
   "cell_type": "code",
   "execution_count": 1,
   "metadata": {},
   "outputs": [],
   "source": [
    "import torch\n",
    "import torch.nn.functional as F\n",
    "import matplotlib.pyplot as plt # for making figures\n",
    "%matplotlib inline"
   ]
  },
  {
   "cell_type": "markdown",
   "metadata": {},
   "source": [
    "#### Dataset and input formatting"
   ]
  },
  {
   "cell_type": "code",
   "execution_count": 2,
   "metadata": {},
   "outputs": [
    {
     "data": {
      "text/plain": [
       "['emma', 'olivia', 'ava', 'isabella', 'sophia', 'charlotte', 'mia', 'amelia']"
      ]
     },
     "execution_count": 2,
     "metadata": {},
     "output_type": "execute_result"
    }
   ],
   "source": [
    "# read in all the words\n",
    "words = open('makemore_dataset/names.txt', 'r').read().splitlines()\n",
    "words[:8]"
   ]
  },
  {
   "cell_type": "code",
   "execution_count": 3,
   "metadata": {},
   "outputs": [
    {
     "data": {
      "text/plain": [
       "32033"
      ]
     },
     "execution_count": 3,
     "metadata": {},
     "output_type": "execute_result"
    }
   ],
   "source": [
    "len(words)"
   ]
  },
  {
   "cell_type": "code",
   "execution_count": 4,
   "metadata": {},
   "outputs": [],
   "source": [
    "# map each character to an index for one-hot encoding\n",
    "chars = sorted(list(set(''.join(words))))\n",
    "stoi = {s:i+1 for i, s in enumerate(chars)}\n",
    "stoi['.'] = 0\n",
    "\n",
    "itos = {i:s for s, i in stoi.items()}"
   ]
  },
  {
   "cell_type": "code",
   "execution_count": 5,
   "metadata": {},
   "outputs": [
    {
     "data": {
      "text/plain": [
       "{1: 'a',\n",
       " 2: 'b',\n",
       " 3: 'c',\n",
       " 4: 'd',\n",
       " 5: 'e',\n",
       " 6: 'f',\n",
       " 7: 'g',\n",
       " 8: 'h',\n",
       " 9: 'i',\n",
       " 10: 'j',\n",
       " 11: 'k',\n",
       " 12: 'l',\n",
       " 13: 'm',\n",
       " 14: 'n',\n",
       " 15: 'o',\n",
       " 16: 'p',\n",
       " 17: 'q',\n",
       " 18: 'r',\n",
       " 19: 's',\n",
       " 20: 't',\n",
       " 21: 'u',\n",
       " 22: 'v',\n",
       " 23: 'w',\n",
       " 24: 'x',\n",
       " 25: 'y',\n",
       " 26: 'z',\n",
       " 0: '.'}"
      ]
     },
     "execution_count": 5,
     "metadata": {},
     "output_type": "execute_result"
    }
   ],
   "source": [
    "itos"
   ]
  },
  {
   "cell_type": "code",
   "execution_count": 6,
   "metadata": {},
   "outputs": [],
   "source": [
    "x, y = [], []\n",
    "\n",
    "\n",
    "for w in words[:3]:\n",
    "    for c1, c2 in zip(w, w[1:]):\n",
    "        i1, i2 = stoi[c1], stoi[c2]\n",
    "        x.append(i1)\n",
    "        y.append(i2)\n",
    "\n",
    "xs = torch.tensor(x)\n",
    "num = xs.nelement()\n",
    "ys = torch.tensor(y)"
   ]
  },
  {
   "cell_type": "code",
   "execution_count": 7,
   "metadata": {},
   "outputs": [
    {
     "data": {
      "text/plain": [
       "(tensor([ 5, 13, 13, 15, 12,  9, 22,  9,  1, 22]),\n",
       " tensor([13, 13,  1, 12,  9, 22,  9,  1, 22,  1]))"
      ]
     },
     "execution_count": 7,
     "metadata": {},
     "output_type": "execute_result"
    }
   ],
   "source": [
    "xs, ys"
   ]
  },
  {
   "cell_type": "code",
   "execution_count": 8,
   "metadata": {},
   "outputs": [],
   "source": [
    "# initialise the neural network weights\n",
    "g = torch.Generator().manual_seed(11)\n",
    "W = torch.rand((27, 27), requires_grad=True, generator=g)"
   ]
  },
  {
   "cell_type": "markdown",
   "metadata": {},
   "source": [
    "#### Training loop"
   ]
  },
  {
   "cell_type": "code",
   "execution_count": 2551,
   "metadata": {},
   "outputs": [],
   "source": [
    "# inputs are reinstatiated for each loop through the training data\n",
    "inputs = F.one_hot(xs, num_classes=27).float()"
   ]
  },
  {
   "cell_type": "code",
   "execution_count": 2552,
   "metadata": {},
   "outputs": [
    {
     "data": {
      "text/plain": [
       "tensor([[0.0031, 0.0035, 0.0034, 0.0027, 0.0027, 0.0036, 0.0048, 0.0055, 0.0040,\n",
       "         0.0028, 0.0033, 0.0040, 0.0041, 0.9014, 0.0032, 0.0041, 0.0053, 0.0028,\n",
       "         0.0033, 0.0029, 0.0031, 0.0053, 0.0045, 0.0036, 0.0037, 0.0051, 0.0042],\n",
       "        [0.0029, 0.4559, 0.0035, 0.0029, 0.0044, 0.0036, 0.0030, 0.0046, 0.0033,\n",
       "         0.0025, 0.0034, 0.0042, 0.0031, 0.4559, 0.0031, 0.0032, 0.0044, 0.0035,\n",
       "         0.0044, 0.0044, 0.0042, 0.0025, 0.0027, 0.0026, 0.0042, 0.0035, 0.0042],\n",
       "        [0.0029, 0.4559, 0.0035, 0.0029, 0.0044, 0.0036, 0.0030, 0.0046, 0.0033,\n",
       "         0.0025, 0.0034, 0.0042, 0.0031, 0.4559, 0.0031, 0.0032, 0.0044, 0.0035,\n",
       "         0.0044, 0.0044, 0.0042, 0.0025, 0.0027, 0.0026, 0.0042, 0.0035, 0.0042],\n",
       "        [0.0034, 0.0037, 0.0044, 0.0039, 0.0030, 0.0038, 0.0030, 0.0026, 0.0042,\n",
       "         0.0053, 0.0052, 0.0038, 0.9021, 0.0027, 0.0038, 0.0025, 0.0026, 0.0048,\n",
       "         0.0049, 0.0026, 0.0050, 0.0048, 0.0031, 0.0047, 0.0044, 0.0027, 0.0027],\n",
       "        [0.0031, 0.0043, 0.0038, 0.0037, 0.0053, 0.0039, 0.0051, 0.0048, 0.0037,\n",
       "         0.8962, 0.0033, 0.0046, 0.0038, 0.0030, 0.0036, 0.0056, 0.0028, 0.0041,\n",
       "         0.0044, 0.0034, 0.0031, 0.0052, 0.0027, 0.0031, 0.0039, 0.0049, 0.0046],\n",
       "        [0.0035, 0.4544, 0.0030, 0.0034, 0.0036, 0.0032, 0.0035, 0.0026, 0.0037,\n",
       "         0.0039, 0.0046, 0.0048, 0.0025, 0.0039, 0.0030, 0.0041, 0.0035, 0.0029,\n",
       "         0.0047, 0.0036, 0.0046, 0.0035, 0.4544, 0.0043, 0.0031, 0.0034, 0.0045],\n",
       "        [0.0037, 0.4567, 0.0024, 0.0035, 0.0045, 0.0032, 0.0028, 0.0045, 0.0028,\n",
       "         0.4567, 0.0041, 0.0030, 0.0025, 0.0030, 0.0036, 0.0041, 0.0030, 0.0029,\n",
       "         0.0044, 0.0041, 0.0035, 0.0041, 0.0032, 0.0038, 0.0027, 0.0034, 0.0039],\n",
       "        [0.0035, 0.4544, 0.0030, 0.0034, 0.0036, 0.0032, 0.0035, 0.0026, 0.0037,\n",
       "         0.0039, 0.0046, 0.0048, 0.0025, 0.0039, 0.0030, 0.0041, 0.0035, 0.0029,\n",
       "         0.0047, 0.0036, 0.0046, 0.0035, 0.4544, 0.0043, 0.0031, 0.0034, 0.0045],\n",
       "        [0.0038, 0.0033, 0.0044, 0.0053, 0.0030, 0.0032, 0.0035, 0.0054, 0.0028,\n",
       "         0.0058, 0.0031, 0.0037, 0.0038, 0.0034, 0.0052, 0.0039, 0.0031, 0.0032,\n",
       "         0.0042, 0.0044, 0.0032, 0.0043, 0.8980, 0.0040, 0.0047, 0.0038, 0.0035],\n",
       "        [0.0037, 0.4567, 0.0024, 0.0035, 0.0045, 0.0032, 0.0028, 0.0045, 0.0028,\n",
       "         0.4567, 0.0041, 0.0030, 0.0025, 0.0030, 0.0036, 0.0041, 0.0030, 0.0029,\n",
       "         0.0044, 0.0041, 0.0035, 0.0041, 0.0032, 0.0038, 0.0027, 0.0034, 0.0039]],\n",
       "       grad_fn=<DivBackward0>)"
      ]
     },
     "execution_count": 2552,
     "metadata": {},
     "output_type": "execute_result"
    }
   ],
   "source": [
    "logits = (inputs @ W)\n",
    "counts = logits.exp()\n",
    "probs = counts / counts.sum(1, keepdim=True)\n",
    "probs"
   ]
  },
  {
   "cell_type": "code",
   "execution_count": 2553,
   "metadata": {},
   "outputs": [
    {
     "data": {
      "text/plain": [
       "tensor([ 5, 13, 13, 15, 12,  9, 22,  9,  1, 22])"
      ]
     },
     "execution_count": 2553,
     "metadata": {},
     "output_type": "execute_result"
    }
   ],
   "source": [
    "# prob for each index = 1\n",
    "xs"
   ]
  },
  {
   "cell_type": "code",
   "execution_count": 2554,
   "metadata": {},
   "outputs": [
    {
     "data": {
      "text/plain": [
       "tensor([13, 13,  1, 12,  9, 22,  9,  1, 22,  1])"
      ]
     },
     "execution_count": 2554,
     "metadata": {},
     "output_type": "execute_result"
    }
   ],
   "source": [
    "# prob for eeach index = 1\n",
    "ys"
   ]
  },
  {
   "cell_type": "code",
   "execution_count": 2555,
   "metadata": {},
   "outputs": [
    {
     "data": {
      "text/plain": [
       "tensor([0.9014, 0.4559, 0.4559, 0.9021, 0.8962, 0.4544, 0.4567, 0.4544, 0.8980,\n",
       "        0.4567], grad_fn=<IndexBackward0>)"
      ]
     },
     "execution_count": 2555,
     "metadata": {},
     "output_type": "execute_result"
    }
   ],
   "source": [
    "# probabilities for indexes given by ys, should approach 1\n",
    "probs[torch.arange(num), ys]"
   ]
  },
  {
   "cell_type": "code",
   "execution_count": 2556,
   "metadata": {},
   "outputs": [
    {
     "data": {
      "text/plain": [
       "tensor(0.5140, grad_fn=<NegBackward0>)"
      ]
     },
     "execution_count": 2556,
     "metadata": {},
     "output_type": "execute_result"
    }
   ],
   "source": [
    "# characterize error with nll\n",
    "loss = -probs[torch.arange(num), ys].log().mean()\n",
    "loss"
   ]
  },
  {
   "cell_type": "code",
   "execution_count": 2557,
   "metadata": {},
   "outputs": [],
   "source": [
    "# backprop\n",
    "W.grad = None\n",
    "loss.backward()"
   ]
  },
  {
   "cell_type": "code",
   "execution_count": 2558,
   "metadata": {},
   "outputs": [
    {
     "data": {
      "text/plain": [
       "tensor(0.5140, grad_fn=<NegBackward0>)"
      ]
     },
     "execution_count": 2558,
     "metadata": {},
     "output_type": "execute_result"
    }
   ],
   "source": [
    "loss"
   ]
  },
  {
   "cell_type": "code",
   "execution_count": 2559,
   "metadata": {},
   "outputs": [],
   "source": [
    "W.data += -0.5 * W.grad"
   ]
  },
  {
   "cell_type": "markdown",
   "metadata": {},
   "source": [
    "#### Sampling from the network\n",
    "\n",
    "Each column of the weights matrix denotes outgoing weights from an input neuron, and can be interpreted as a probability distribution"
   ]
  },
  {
   "cell_type": "code",
   "execution_count": 2560,
   "metadata": {},
   "outputs": [
    {
     "data": {
      "text/plain": [
       "['.emavavavavaviavaviavicolivavavavaliavavaviavavavavaviviaviavavavavavzdytpdf',\n",
       " '.liavavaviavavavavix',\n",
       " '.nxemmbrjhgtnzvavvwjemaviavavaruiavavavavavivakmmmmavavivavydolivivivivivavivavavavvohndunusulivwiavivaywoluoliavavavavrrjiavavivtbzttkiavavusprgbskhemavaviavivavavavbbspfrctcewlivaviavavivavaviviavaviavivcqwavivavivaquxjnsxiavan',\n",
       " '.emkcu',\n",
       " '.knghynrwoliavavavivaviavaviaviaviavsgchcvivavpfmmavavaviaviavavavnptgviavavavaviviavaviavfuyxpyjhungemavaviagtaviaviuqoliviavakffsnqnbrxyyoliviavaviviviaviavavaviavivavkchyxvavaviavavivuaviavavavivivaviviviavwlkdukqvaviavfzceolivaolivavioliviviavavifbwnjusliavavavivavaviavavavahuqsubwh']"
      ]
     },
     "execution_count": 2560,
     "metadata": {},
     "output_type": "execute_result"
    }
   ],
   "source": [
    "g = torch.Generator().manual_seed(11)\n",
    "names = []\n",
    "# sample ten words, starting at the 0-character each time\n",
    "for i in range(5):\n",
    "    # sample until stopping character is outputted\n",
    "    ix = 0\n",
    "    s = ''\n",
    "    while True:\n",
    "        char = itos[ix]\n",
    "        s += char\n",
    "\n",
    "        input = F.one_hot(torch.tensor(ix), num_classes=27).float()\n",
    "        logits = input @ W\n",
    "        counts = logits.exp()\n",
    "        probs = counts / counts.sum(0, keepdim=True)\n",
    "\n",
    "        ix = torch.multinomial(probs, generator=g, replacement=True, num_samples=1).item()\n",
    "\n",
    "        if ix == 0:\n",
    "            break\n",
    "    \n",
    "    names.append(s)\n",
    "\n",
    "names"
   ]
  },
  {
   "cell_type": "code",
   "execution_count": 2561,
   "metadata": {},
   "outputs": [
    {
     "data": {
      "text/plain": [
       "tensor([0.0559, 0.0442, 0.0371, 0.0454, 0.0290, 0.0477, 0.0220, 0.0213, 0.0532,\n",
       "        0.0232, 0.0233, 0.0380, 0.0346, 0.0426, 0.0299, 0.0499, 0.0388, 0.0354,\n",
       "        0.0266, 0.0547, 0.0300, 0.0345, 0.0260, 0.0314, 0.0493, 0.0520, 0.0240],\n",
       "       grad_fn=<DivBackward0>)"
      ]
     },
     "execution_count": 2561,
     "metadata": {},
     "output_type": "execute_result"
    }
   ],
   "source": [
    "probs"
   ]
  },
  {
   "cell_type": "code",
   "execution_count": 2562,
   "metadata": {},
   "outputs": [
    {
     "data": {
      "text/plain": [
       "<matplotlib.image.AxesImage at 0x1c95617f200>"
      ]
     },
     "execution_count": 2562,
     "metadata": {},
     "output_type": "execute_result"
    },
    {
     "data": {
      "image/png": "[encoded data removed]",
      "text/plain": [
       "<Figure size 640x480 with 1 Axes>"
      ]
     },
     "metadata": {},
     "output_type": "display_data"
    }
   ],
   "source": [
    "weights = W\n",
    "weights = weights.detach().numpy()\n",
    "plt.imshow(weights.T)"
   ]
  },
  {
   "cell_type": "markdown",
   "metadata": {},
   "source": [
    "### MLP implementation "
   ]
  },
  {
   "cell_type": "markdown",
   "metadata": {},
   "source": [
    "#### Dataset and input formatting"
   ]
  },
  {
   "cell_type": "code",
   "execution_count": 2643,
   "metadata": {},
   "outputs": [
    {
     "data": {
      "application/vnd.jupyter.widget-view+json": {
       "model_id": "28fa40e6b24d4978a9db3b743abca3ac",
       "version_major": 2,
       "version_minor": 0
      },
      "text/plain": [
       "VBox(children=(HTML(value='<center> <img\\nsrc=https://www.kaggle.com/static/images/site-logo.png\\nalt=\\'Kaggle…"
      ]
     },
     "metadata": {},
     "output_type": "display_data"
    },
    {
     "name": "stdout",
     "output_type": "stream",
     "text": [
      "Kaggle credentials set.\n",
      "Kaggle credentials successfully validated.\n"
     ]
    }
   ],
   "source": [
    "import kagglehub\n",
    "import pandas as pd\n",
    "kagglehub.login()\n"
   ]
  },
  {
   "cell_type": "code",
   "execution_count": 2655,
   "metadata": {},
   "outputs": [
    {
     "data": {
      "text/plain": [
       "['emma', 'olivia', 'ava', 'isabella', 'sophia', 'charlotte', 'mia', 'amelia']"
      ]
     },
     "execution_count": 2655,
     "metadata": {},
     "output_type": "execute_result"
    }
   ],
   "source": [
    "#read in all the words\n",
    "words = open('makemore_dataset/names.txt', 'r').read().splitlines()\n",
    "words[:8]"
   ]
  },
  {
   "cell_type": "code",
   "execution_count": 2564,
   "metadata": {},
   "outputs": [],
   "source": [
    "# build the dataset\n",
    "block_size = 3 # context length: how many characters do we take to predict the next one?\n",
    "\n",
    "X, Y = [], []\n",
    "for w in words:\n",
    "  \n",
    "  #print(w)\n",
    "  context = [0] * block_size\n",
    "  for ch in w + '.':\n",
    "    ix = stoi[ch]\n",
    "    X.append(context)\n",
    "    Y.append(ix)\n",
    "    #print(''.join(itos[i] for i in context), '--->', itos[ix])\n",
    "    context = context[1:] + [ix] # crop and append\n",
    "  \n",
    "X = torch.tensor(X)\n",
    "Y = torch.tensor(Y)"
   ]
  },
  {
   "cell_type": "code",
   "execution_count": 2565,
   "metadata": {},
   "outputs": [
    {
     "data": {
      "text/plain": [
       "torch.Size([228146, 3])"
      ]
     },
     "execution_count": 2565,
     "metadata": {},
     "output_type": "execute_result"
    }
   ],
   "source": [
    "X.shape"
   ]
  },
  {
   "cell_type": "code",
   "execution_count": 2566,
   "metadata": {},
   "outputs": [
    {
     "data": {
      "text/plain": [
       "tensor([ 5, 13, 13,  ..., 26, 24,  0])"
      ]
     },
     "execution_count": 2566,
     "metadata": {},
     "output_type": "execute_result"
    }
   ],
   "source": [
    "Y"
   ]
  },
  {
   "cell_type": "code",
   "execution_count": 2567,
   "metadata": {},
   "outputs": [],
   "source": [
    "# training split, dev/validation split, test split\n",
    "# set weights -> tune hyperparameters -> assess model performance metrics\n",
    "# 80%, 10%, 10%"
   ]
  },
  {
   "cell_type": "code",
   "execution_count": 2568,
   "metadata": {},
   "outputs": [
    {
     "name": "stdout",
     "output_type": "stream",
     "text": [
      "torch.Size([182625, 3]) torch.Size([182625])\n",
      "torch.Size([22655, 3]) torch.Size([22655])\n",
      "torch.Size([22866, 3]) torch.Size([22866])\n"
     ]
    }
   ],
   "source": [
    "# build the dataset\n",
    "block_size = 3 # context length: how many characters do we take to predict the next one?\n",
    "\n",
    "def build_dataset(words):  \n",
    "  X, Y = [], []\n",
    "  for w in words:\n",
    "\n",
    "    #print(w)\n",
    "    context = [0] * block_size\n",
    "    for ch in w + '.':\n",
    "      ix = stoi[ch]\n",
    "      X.append(context)\n",
    "      Y.append(ix)\n",
    "      #print(''.join(itos[i] for i in context), '--->', itos[ix])\n",
    "      context = context[1:] + [ix] # crop and append\n",
    "\n",
    "  X = torch.tensor(X)\n",
    "  Y = torch.tensor(Y)\n",
    "  print(X.shape, Y.shape)\n",
    "  return X, Y\n",
    "\n",
    "import random\n",
    "random.seed(42)\n",
    "random.shuffle(words)\n",
    "n1 = int(0.8*len(words))\n",
    "n2 = int(0.9*len(words))\n",
    "\n",
    "Xtr, Ytr = build_dataset(words[:n1])\n",
    "Xdev, Ydev = build_dataset(words[n1:n2])\n",
    "Xte, Yte = build_dataset(words[n2:])"
   ]
  },
  {
   "cell_type": "markdown",
   "metadata": {},
   "source": [
    "#### Initialise Network parameters"
   ]
  },
  {
   "cell_type": "code",
   "execution_count": 2596,
   "metadata": {},
   "outputs": [],
   "source": [
    "g = torch.Generator().manual_seed(11)\n",
    "\n",
    "# vector embeddings\n",
    "C = torch.randn((27, 8), generator=g, requires_grad=True)\n",
    "\n",
    "# 3*8 incoming weights for 100 neurons\n",
    "W1 = torch.randn((24, 100), generator=g, requires_grad=True)\n",
    "b1 = torch.randn(100, generator=g, requires_grad=True)\n",
    "\n",
    "# 100 incoming weights for 27 neurons\n",
    "W2 = torch.randn((100, 27), generator=g, requires_grad=True)\n",
    "b2 = torch.randn(27, generator=g, requires_grad=True)"
   ]
  },
  {
   "cell_type": "code",
   "execution_count": 2597,
   "metadata": {},
   "outputs": [
    {
     "data": {
      "text/plain": [
       "tensor([-0.5108,  1.0283, -0.3532,  0.1230, -0.1816, -1.4972,  0.1421, -0.5243],\n",
       "       grad_fn=<SelectBackward0>)"
      ]
     },
     "execution_count": 2597,
     "metadata": {},
     "output_type": "execute_result"
    }
   ],
   "source": [
    "# vector embedding of '.'\n",
    "C[0]"
   ]
  },
  {
   "cell_type": "markdown",
   "metadata": {},
   "source": [
    "#### Training Loop"
   ]
  },
  {
   "cell_type": "code",
   "execution_count": 2613,
   "metadata": {},
   "outputs": [],
   "source": [
    "epoch = 10000"
   ]
  },
  {
   "cell_type": "code",
   "execution_count": 2614,
   "metadata": {},
   "outputs": [],
   "source": [
    "# learning rate\n",
    "\n",
    "e = torch.linspace(-3, 0, epoch)\n",
    "lrs = 10 ** e"
   ]
  },
  {
   "cell_type": "code",
   "execution_count": 2636,
   "metadata": {},
   "outputs": [
    {
     "name": "stdout",
     "output_type": "stream",
     "text": [
      "1.963392734527588\n"
     ]
    }
   ],
   "source": [
    "lossi = []\n",
    "lri = []\n",
    "for i in range(epoch):\n",
    "\n",
    "    # minibatch creation\n",
    "    ix = torch.randint(0, X.shape[0], (32, ))\n",
    "\n",
    "    # forward pass\n",
    "    emb = C[X[ix]]\n",
    "    h = torch.tanh(emb.view(emb.shape[0], 24) @ W1 + b1)\n",
    "    logits = h @ W2 + b2\n",
    "    loss = F.cross_entropy(logits, Y[ix])\n",
    "\n",
    "    # backward pass\n",
    "    for p in [C, W1, b1, W2, b2]:\n",
    "        p.grad = None\n",
    "\n",
    "    loss.backward()\n",
    "\n",
    "    # update parameters\n",
    "    lr = lrs[i]\n",
    "\n",
    "    for p in [C, W1, b1, W2, b2]:\n",
    "        p.data += -0.08 * p.grad\n",
    "\n",
    "    # track stats\n",
    "    lossi.append(loss.item())\n",
    "    lri.append(lr.item())\n",
    "\n",
    "    \n",
    "print(loss.item())"
   ]
  },
  {
   "cell_type": "code",
   "execution_count": 2623,
   "metadata": {},
   "outputs": [
    {
     "data": {
      "text/plain": [
       "[<matplotlib.lines.Line2D at 0x1c94b1d4c80>]"
      ]
     },
     "execution_count": 2623,
     "metadata": {},
     "output_type": "execute_result"
    },
    {
     "data": {
      "image/png": "[encoded data removed]",
      "text/plain": [
       "<Figure size 640x480 with 1 Axes>"
      ]
     },
     "metadata": {},
     "output_type": "display_data"
    }
   ],
   "source": [
    "# learning rate vs loss\n",
    "plt.plot(lri, lossi)"
   ]
  },
  {
   "cell_type": "code",
   "execution_count": 2624,
   "metadata": {},
   "outputs": [
    {
     "data": {
      "text/plain": [
       "[<matplotlib.lines.Line2D at 0x1c94b23b1d0>]"
      ]
     },
     "execution_count": 2624,
     "metadata": {},
     "output_type": "execute_result"
    },
    {
     "data": {
      "image/png": "[encoded data removed]",
      "text/plain": [
       "<Figure size 640x480 with 1 Axes>"
      ]
     },
     "metadata": {},
     "output_type": "display_data"
    }
   ],
   "source": [
    "# exponent of 10 vs loss\n",
    "plt.plot(torch.tensor(lri).log10(), lossi)"
   ]
  },
  {
   "cell_type": "code",
   "execution_count": 2625,
   "metadata": {},
   "outputs": [
    {
     "data": {
      "text/plain": [
       "0.0688626691699028"
      ]
     },
     "execution_count": 2625,
     "metadata": {},
     "output_type": "execute_result"
    }
   ],
   "source": [
    "# optimal learning rate\n",
    "index = torch.argmin(torch.tensor(lossi)).item()\n",
    "lri[index]"
   ]
  },
  {
   "cell_type": "code",
   "execution_count": 2626,
   "metadata": {},
   "outputs": [
    {
     "data": {
      "image/png": "[encoded data removed]",
      "text/plain": [
       "<Figure size 800x800 with 1 Axes>"
      ]
     },
     "metadata": {},
     "output_type": "display_data"
    }
   ],
   "source": [
    "# visualize dimensions 0 and 1 of the embedding matrix C for all characters\n",
    "plt.figure(figsize=(8,8))\n",
    "plt.scatter(C[:,0].data, C[:,1].data, s=200)\n",
    "for i in range(C.shape[0]):\n",
    "    plt.text(C[i,0].item(), C[i,1].item(), itos[i], ha=\"center\", va=\"center\", color='white')\n",
    "plt.grid('minor')"
   ]
  },
  {
   "cell_type": "markdown",
   "metadata": {},
   "source": [
    "#### Sample from the neural net"
   ]
  },
  {
   "cell_type": "code",
   "execution_count": 2635,
   "metadata": {},
   "outputs": [
    {
     "data": {
      "text/plain": [
       "torch.Size([1, 3, 8])"
      ]
     },
     "execution_count": 2635,
     "metadata": {},
     "output_type": "execute_result"
    }
   ],
   "source": [
    "emb.shape"
   ]
  },
  {
   "cell_type": "code",
   "execution_count": 2640,
   "metadata": {},
   "outputs": [
    {
     "name": "stdout",
     "output_type": "stream",
     "text": [
      "donni.\n",
      "ameinre.\n",
      "kamleni.\n",
      "shenia.\n",
      "eushadda.\n",
      "palanaylera.\n",
      "mararianay.\n",
      "nevie.\n",
      "bryka.\n",
      "avalonna.\n",
      "vexa.\n",
      "bar.\n",
      "azera.\n",
      "neveth.\n",
      "maryan.\n",
      "taya.\n",
      "mariah.\n",
      "yuzin.\n",
      "andi.\n",
      "damyah.\n"
     ]
    }
   ],
   "source": [
    "ix = 0\n",
    "for _ in range(20):\n",
    "\n",
    "    out = []\n",
    "    \n",
    "    context = [0] * block_size\n",
    "\n",
    "    while True:\n",
    "        # forward pass\n",
    "        emb = C[torch.tensor([context])]\n",
    "        h = torch.tanh(emb.view(emb.shape[0], -1) @ W1 + b1)\n",
    "        logits = h @ W2 + b2\n",
    "        probs = F.softmax(logits, dim=1)\n",
    "\n",
    "        ix = torch.multinomial(probs, num_samples=1).item()\n",
    "\n",
    "        context = context[1:] + [ix]\n",
    "        out.append(ix)\n",
    "\n",
    "        if ix == 0:\n",
    "            break\n",
    "\n",
    "    print(''.join([itos[i] for i in out]))"
   ]
  },
  {
   "cell_type": "markdown",
   "metadata": {},
   "source": [
    "#### Manual training loop"
   ]
  },
  {
   "cell_type": "code",
   "execution_count": 2578,
   "metadata": {},
   "outputs": [],
   "source": [
    "emb = C[X]"
   ]
  },
  {
   "cell_type": "code",
   "execution_count": 2579,
   "metadata": {},
   "outputs": [
    {
     "data": {
      "text/plain": [
       "tensor([-0.3550,  0.5315], grad_fn=<SelectBackward0>)"
      ]
     },
     "execution_count": 2579,
     "metadata": {},
     "output_type": "execute_result"
    }
   ],
   "source": [
    "# vector embedding of '.' in embedding table representing all inputs X\n",
    "emb[0, 0]"
   ]
  },
  {
   "cell_type": "code",
   "execution_count": 2580,
   "metadata": {},
   "outputs": [
    {
     "data": {
      "text/plain": [
       "torch.Size([228146, 6])"
      ]
     },
     "execution_count": 2580,
     "metadata": {},
     "output_type": "execute_result"
    }
   ],
   "source": [
    "torch.cat([emb[:,0,:], emb[:,1,:], emb[:,2,:]], 1).shape"
   ]
  },
  {
   "cell_type": "code",
   "execution_count": 2581,
   "metadata": {},
   "outputs": [
    {
     "data": {
      "text/plain": [
       "torch.Size([228146, 6])"
      ]
     },
     "execution_count": 2581,
     "metadata": {},
     "output_type": "execute_result"
    }
   ],
   "source": [
    "torch.cat(torch.unbind(emb, 1), 1).shape"
   ]
  },
  {
   "cell_type": "code",
   "execution_count": 2582,
   "metadata": {},
   "outputs": [],
   "source": [
    "h = torch.tanh(emb.view(emb.shape[0], 6) @ W1 + b1)"
   ]
  },
  {
   "cell_type": "code",
   "execution_count": 2583,
   "metadata": {},
   "outputs": [],
   "source": [
    "logits = h @ W2 + b2"
   ]
  },
  {
   "cell_type": "code",
   "execution_count": 2584,
   "metadata": {},
   "outputs": [
    {
     "data": {
      "text/plain": [
       "torch.Size([228146, 27])"
      ]
     },
     "execution_count": 2584,
     "metadata": {},
     "output_type": "execute_result"
    }
   ],
   "source": [
    "logits.shape"
   ]
  },
  {
   "cell_type": "code",
   "execution_count": 2585,
   "metadata": {},
   "outputs": [
    {
     "data": {
      "text/plain": [
       "tensor(2.5106, grad_fn=<NegBackward0>)"
      ]
     },
     "execution_count": 2585,
     "metadata": {},
     "output_type": "execute_result"
    }
   ],
   "source": [
    "# manual implementation of cross entropy loss\n",
    "\n",
    "# subtracts maximum logit to prevent exp() overflow\n",
    "counts = (logits-logits.max()).exp()\n",
    "\n",
    "# normalizees counts to probability distribution\n",
    "prob = counts / counts.sum(1, keepdim=True)\n",
    "\n",
    "loss = -prob[torch.arange(emb.shape[0]), Y].log().mean()\n",
    "loss"
   ]
  },
  {
   "cell_type": "code",
   "execution_count": 2586,
   "metadata": {},
   "outputs": [
    {
     "data": {
      "text/plain": [
       "tensor(2.5106, grad_fn=<NllLossBackward0>)"
      ]
     },
     "execution_count": 2586,
     "metadata": {},
     "output_type": "execute_result"
    }
   ],
   "source": [
    "# pytorch implementation, prevents creation of new tensors\n",
    "loss = F.cross_entropy(logits, Y)\n",
    "loss"
   ]
  },
  {
   "cell_type": "code",
   "execution_count": 2587,
   "metadata": {},
   "outputs": [
    {
     "name": "stdout",
     "output_type": "stream",
     "text": [
      "2.5106396675109863\n"
     ]
    }
   ],
   "source": [
    "for p in [C, W1, b1, W2, b2]:\n",
    "    p.grad = None\n",
    "loss.backward()\n",
    "print(loss.item())\n",
    "\n",
    "for p in [C, W1, b1, W2, b2]:\n",
    "    p.data += -0.1 * p.grad"
   ]
  },
  {
   "cell_type": "code",
   "execution_count": 2588,
   "metadata": {},
   "outputs": [
    {
     "data": {
      "text/plain": [
       "<matplotlib.image.AxesImage at 0x1c954c0eb40>"
      ]
     },
     "execution_count": 2588,
     "metadata": {},
     "output_type": "execute_result"
    },
    {
     "data": {
      "image/png": "[encoded data removed]",
      "text/plain": [
       "<Figure size 640x480 with 1 Axes>"
      ]
     },
     "metadata": {},
     "output_type": "display_data"
    }
   ],
   "source": [
    "v = C.detach().numpy()\n",
    "plt.imshow(v)"
   ]
  },
  {
   "cell_type": "code",
   "execution_count": 2589,
   "metadata": {},
   "outputs": [
    {
     "data": {
      "text/plain": [
       "<matplotlib.image.AxesImage at 0x1c94b1fc200>"
      ]
     },
     "execution_count": 2589,
     "metadata": {},
     "output_type": "execute_result"
    },
    {
     "data": {
      "image/png": "[encoded data removed]",
      "text/plain": [
       "<Figure size 640x480 with 1 Axes>"
      ]
     },
     "metadata": {},
     "output_type": "display_data"
    }
   ],
   "source": [
    "v = W1.detach().numpy()\n",
    "plt.imshow(v)"
   ]
  },
  {
   "cell_type": "code",
   "execution_count": 2590,
   "metadata": {},
   "outputs": [
    {
     "data": {
      "text/plain": [
       "<matplotlib.image.AxesImage at 0x1c94b259220>"
      ]
     },
     "execution_count": 2590,
     "metadata": {},
     "output_type": "execute_result"
    },
    {
     "data": {
      "image/png": "[encoded data removed]",
      "text/plain": [
       "<Figure size 640x480 with 1 Axes>"
      ]
     },
     "metadata": {},
     "output_type": "display_data"
    }
   ],
   "source": [
    "v = W2.detach().numpy()\n",
    "plt.imshow(v)"
   ]
  },
  {
   "cell_type": "markdown",
   "metadata": {},
   "source": [
    "#### Sample from the model"
   ]
  },
  {
   "cell_type": "code",
   "execution_count": 2591,
   "metadata": {},
   "outputs": [
    {
     "name": "stdout",
     "output_type": "stream",
     "text": [
      "mri.\n",
      "ammyanliee.\n",
      "med.\n",
      "ryah.\n",
      "rethas.\n",
      "ekdrleg.\n",
      "aderedieliiheli.\n",
      "jen.\n",
      "edein.\n",
      "ananareelyzioh.\n",
      "karin.\n",
      "sadbergahiries.\n",
      "kin.\n",
      "renelionnteroriu.\n",
      "mened.\n",
      "rayshan.\n",
      "ehs.\n",
      "kae.\n",
      "mys.\n",
      "kyes.\n"
     ]
    }
   ],
   "source": [
    "\n",
    "# sample from the model\n",
    "g = torch.Generator().manual_seed(2147483647 + 10)\n",
    "\n",
    "for _ in range(20):\n",
    "    \n",
    "    out = []\n",
    "    context = [0] * block_size # initialize with all ...\n",
    "    while True:\n",
    "      emb = C[torch.tensor([context])] # (1,block_size,d)\n",
    "      h = torch.tanh(emb.view(1, -1) @ W1 + b1)\n",
    "      logits = h @ W2 + b2\n",
    "      probs = F.softmax(logits, dim=1)\n",
    "      ix = torch.multinomial(probs, num_samples=1, generator=g).item()\n",
    "      context = context[1:] + [ix]\n",
    "      out.append(ix)\n",
    "      if ix == 0:\n",
    "        break\n",
    "    \n",
    "    print(''.join(itos[i] for i in out))"
   ]
  }
 ],
 "metadata": {
  "kernelspec": {
   "display_name": "Python 3",
   "language": "python",
   "name": "python3"
  },
  "language_info": {
   "codemirror_mode": {
    "name": "ipython",
    "version": 3
   },
   "file_extension": ".py",
   "mimetype": "text/x-python",
   "name": "python",
   "nbconvert_exporter": "python",
   "pygments_lexer": "ipython3",
   "version": "3.12.8"
  }
 },
 "nbformat": 4,
 "nbformat_minor": 2
}
